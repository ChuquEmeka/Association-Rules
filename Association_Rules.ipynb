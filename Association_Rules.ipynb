{
  "nbformat": 4,
  "nbformat_minor": 0,
  "metadata": {
    "colab": {
      "name": "Association Rules.ipynb",
      "provenance": [],
      "collapsed_sections": [],
      "authorship_tag": "ABX9TyMK11iT/z7dPiMrv/JhRSiH",
      "include_colab_link": true
    },
    "kernelspec": {
      "name": "ir",
      "display_name": "R"
    },
    "language_info": {
      "name": "R"
    }
  },
  "cells": [
    {
      "cell_type": "markdown",
      "metadata": {
        "id": "view-in-github",
        "colab_type": "text"
      },
      "source": [
        "<a href=\"https://colab.research.google.com/github/ChuquEmeka/Association-Rules/blob/main/Association_Rules.ipynb\" target=\"_parent\"><img src=\"https://colab.research.google.com/assets/colab-badge.svg\" alt=\"Open In Colab\"/></a>"
      ]
    },
    {
      "cell_type": "code",
      "source": [
        ""
      ],
      "metadata": {
        "id": "C2RfesLyrJmR"
      },
      "execution_count": null,
      "outputs": []
    },
    {
      "cell_type": "markdown",
      "source": [
        "##Identifying Frequently Purchased GroceriesWith Association Rule- Unsuppervised Learning.\n",
        "\n",
        "\n",
        "####Edeh Emeka N.\n",
        "\n",
        "[Grocery Dataset](https://www.kaggle.com/irfanasrullah/groceries?select=groceries.csv)"
      ],
      "metadata": {
        "id": "kkO0WE94rOid"
      }
    },
    {
      "cell_type": "code",
      "execution_count": 8,
      "metadata": {
        "colab": {
          "base_uri": "https://localhost:8080/",
          "height": 286
        },
        "id": "08bX-3i8lEWV",
        "outputId": "be4c2390-a5e0-4bbe-dd14-92a4ee6e134e"
      },
      "outputs": [
        {
          "output_type": "display_data",
          "data": {
            "text/plain": [
              "  V1               V2                  V3             V4                      \n",
              "1 citrus fruit     semi-finished bread margarine      ready soups             \n",
              "2 tropical fruit   yogurt              coffee                                 \n",
              "3 whole milk                                                                  \n",
              "4 pip fruit        yogurt              cream cheese   meat spreads            \n",
              "5 other vegetables whole milk          condensed milk long life bakery product\n",
              "6 whole milk       butter              yogurt         rice                    "
            ],
            "text/latex": "A data.frame: 6 × 4\n\\begin{tabular}{r|llll}\n  & V1 & V2 & V3 & V4\\\\\n  & <chr> & <chr> & <chr> & <chr>\\\\\n\\hline\n\t1 & citrus fruit     & semi-finished bread & margarine      & ready soups             \\\\\n\t2 & tropical fruit   & yogurt              & coffee         &                         \\\\\n\t3 & whole milk       &                     &                &                         \\\\\n\t4 & pip fruit        & yogurt              & cream cheese   & meat spreads            \\\\\n\t5 & other vegetables & whole milk          & condensed milk & long life bakery product\\\\\n\t6 & whole milk       & butter              & yogurt         & rice                    \\\\\n\\end{tabular}\n",
            "text/markdown": "\nA data.frame: 6 × 4\n\n| <!--/--> | V1 &lt;chr&gt; | V2 &lt;chr&gt; | V3 &lt;chr&gt; | V4 &lt;chr&gt; |\n|---|---|---|---|---|\n| 1 | citrus fruit     | semi-finished bread | margarine      | ready soups              |\n| 2 | tropical fruit   | yogurt              | coffee         | <!----> |\n| 3 | whole milk       | <!----> | <!----> | <!----> |\n| 4 | pip fruit        | yogurt              | cream cheese   | meat spreads             |\n| 5 | other vegetables | whole milk          | condensed milk | long life bakery product |\n| 6 | whole milk       | butter              | yogurt         | rice                     |\n\n",
            "text/html": [
              "<table class=\"dataframe\">\n",
              "<caption>A data.frame: 6 × 4</caption>\n",
              "<thead>\n",
              "\t<tr><th></th><th scope=col>V1</th><th scope=col>V2</th><th scope=col>V3</th><th scope=col>V4</th></tr>\n",
              "\t<tr><th></th><th scope=col>&lt;chr&gt;</th><th scope=col>&lt;chr&gt;</th><th scope=col>&lt;chr&gt;</th><th scope=col>&lt;chr&gt;</th></tr>\n",
              "</thead>\n",
              "<tbody>\n",
              "\t<tr><th scope=row>1</th><td>citrus fruit    </td><td>semi-finished bread</td><td>margarine     </td><td>ready soups             </td></tr>\n",
              "\t<tr><th scope=row>2</th><td>tropical fruit  </td><td>yogurt             </td><td>coffee        </td><td>                        </td></tr>\n",
              "\t<tr><th scope=row>3</th><td>whole milk      </td><td>                   </td><td>              </td><td>                        </td></tr>\n",
              "\t<tr><th scope=row>4</th><td>pip fruit       </td><td>yogurt             </td><td>cream cheese  </td><td>meat spreads            </td></tr>\n",
              "\t<tr><th scope=row>5</th><td>other vegetables</td><td>whole milk         </td><td>condensed milk</td><td>long life bakery product</td></tr>\n",
              "\t<tr><th scope=row>6</th><td>whole milk      </td><td>butter             </td><td>yogurt        </td><td>rice                    </td></tr>\n",
              "</tbody>\n",
              "</table>\n"
            ]
          },
          "metadata": {}
        }
      ],
      "source": [
        "groc <- read.csv(\"groceries.csv\", header = FALSE)\n",
        "head(groc)"
      ]
    },
    {
      "cell_type": "markdown",
      "source": [
        "In order to create the sparse matrix data structure from the transaction data, i have to use the functionality provided by the **arules** package"
      ],
      "metadata": {
        "id": "W9FwCY2gsgCh"
      }
    },
    {
      "cell_type": "code",
      "source": [
        "install.packages(\"arules\")"
      ],
      "metadata": {
        "colab": {
          "base_uri": "https://localhost:8080/"
        },
        "id": "uMk_x9dLtF2R",
        "outputId": "410605f6-c917-415f-ee9d-61c397566f05"
      },
      "execution_count": 9,
      "outputs": [
        {
          "output_type": "stream",
          "name": "stderr",
          "text": [
            "Installing package into ‘/usr/local/lib/R/site-library’\n",
            "(as ‘lib’ is unspecified)\n",
            "\n"
          ]
        }
      ]
    },
    {
      "cell_type": "code",
      "source": [
        "library(\"arules\")"
      ],
      "metadata": {
        "colab": {
          "base_uri": "https://localhost:8080/"
        },
        "id": "FyAOr8O8tWO5",
        "outputId": "e614d76e-c215-4f29-cec8-0f366ab403d8"
      },
      "execution_count": 10,
      "outputs": [
        {
          "output_type": "stream",
          "name": "stderr",
          "text": [
            "Loading required package: Matrix\n",
            "\n",
            "\n",
            "Attaching package: ‘arules’\n",
            "\n",
            "\n",
            "The following objects are masked from ‘package:base’:\n",
            "\n",
            "    abbreviate, write\n",
            "\n",
            "\n"
          ]
        }
      ]
    },
    {
      "cell_type": "code",
      "source": [
        "groceries<-read.transactions(\"groceries.csv\", sep = \",\")\n",
        "groceries"
      ],
      "metadata": {
        "colab": {
          "base_uri": "https://localhost:8080/",
          "height": 69
        },
        "id": "KlYPDOX8tr0O",
        "outputId": "d22565bc-c0ca-4516-9f8a-5864a83634c1"
      },
      "execution_count": 11,
      "outputs": [
        {
          "output_type": "display_data",
          "data": {
            "text/plain": [
              "transactions in sparse format with\n",
              " 9835 transactions (rows) and\n",
              " 169 items (columns)"
            ]
          },
          "metadata": {}
        }
      ]
    },
    {
      "cell_type": "code",
      "source": [
        "summary(groceries) #to view some basic informations about the transaction matrix"
      ],
      "metadata": {
        "colab": {
          "base_uri": "https://localhost:8080/",
          "height": 451
        },
        "id": "t3mpZyTfuKwY",
        "outputId": "efa40cec-afb3-4fa4-a164-1f881fc40739"
      },
      "execution_count": 12,
      "outputs": [
        {
          "output_type": "display_data",
          "data": {
            "text/plain": [
              "transactions as itemMatrix in sparse format with\n",
              " 9835 rows (elements/itemsets/transactions) and\n",
              " 169 columns (items) and a density of 0.02609146 \n",
              "\n",
              "most frequent items:\n",
              "      whole milk other vegetables       rolls/buns             soda \n",
              "            2513             1903             1809             1715 \n",
              "          yogurt          (Other) \n",
              "            1372            34055 \n",
              "\n",
              "element (itemset/transaction) length distribution:\n",
              "sizes\n",
              "   1    2    3    4    5    6    7    8    9   10   11   12   13   14   15   16 \n",
              "2159 1643 1299 1005  855  645  545  438  350  246  182  117   78   77   55   46 \n",
              "  17   18   19   20   21   22   23   24   26   27   28   29   32 \n",
              "  29   14   14    9   11    4    6    1    1    1    1    3    1 \n",
              "\n",
              "   Min. 1st Qu.  Median    Mean 3rd Qu.    Max. \n",
              "  1.000   2.000   3.000   4.409   6.000  32.000 \n",
              "\n",
              "includes extended item information - examples:\n",
              "            labels\n",
              "1 abrasive cleaner\n",
              "2 artif. sweetener\n",
              "3   baby cosmetics"
            ]
          },
          "metadata": {}
        }
      ]
    },
    {
      "cell_type": "code",
      "source": [
        "inspect(groceries[1:6]) #for the first 6 transactions"
      ],
      "metadata": {
        "colab": {
          "base_uri": "https://localhost:8080/"
        },
        "id": "8oWNf2_DutMg",
        "outputId": "97f119d1-ed96-4b9a-9154-d1da14a62cd2"
      },
      "execution_count": 31,
      "outputs": [
        {
          "output_type": "stream",
          "name": "stdout",
          "text": [
            "    items                      \n",
            "[1] {citrus fruit,             \n",
            "     margarine,                \n",
            "     ready soups,              \n",
            "     semi-finished bread}      \n",
            "[2] {coffee,                   \n",
            "     tropical fruit,           \n",
            "     yogurt}                   \n",
            "[3] {whole milk}               \n",
            "[4] {cream cheese,             \n",
            "     meat spreads,             \n",
            "     pip fruit,                \n",
            "     yogurt}                   \n",
            "[5] {condensed milk,           \n",
            "     long life bakery product, \n",
            "     other vegetables,         \n",
            "     whole milk}               \n",
            "[6] {abrasive cleaner,         \n",
            "     butter,                   \n",
            "     rice,                     \n",
            "     whole milk,               \n",
            "     yogurt}                   \n"
          ]
        }
      ]
    },
    {
      "cell_type": "code",
      "source": [
        "itemFrequency(groceries[4,2])"
      ],
      "metadata": {
        "colab": {
          "base_uri": "https://localhost:8080/",
          "height": 34
        },
        "id": "TJnba7eDyMYH",
        "outputId": "83a37b84-c024-42d1-ff78-0811d58a7a68"
      },
      "execution_count": 32,
      "outputs": [
        {
          "output_type": "display_data",
          "data": {
            "text/plain": [
              "artif. sweetener \n",
              "               0 "
            ],
            "text/latex": "\\textbf{artif. sweetener:} 0",
            "text/markdown": "**artif. sweetener:** 0",
            "text/html": [
              "<strong>artif. sweetener:</strong> 0"
            ]
          },
          "metadata": {}
        }
      ]
    },
    {
      "cell_type": "markdown",
      "source": [
        "####*Visualizing* item support below"
      ],
      "metadata": {
        "id": "iowKwGGEBsxv"
      }
    },
    {
      "cell_type": "code",
      "source": [
        "itemFrequencyPlot(groceries, support=0.1)"
      ],
      "metadata": {
        "colab": {
          "base_uri": "https://localhost:8080/",
          "height": 437
        },
        "id": "gm5ZaIcPAqg4",
        "outputId": "80f6f6dc-d167-4d3f-f1e6-1ed67d9cdc51"
      },
      "execution_count": 39,
      "outputs": [
        {
          "output_type": "display_data",
          "data": {
            "image/png": "[encoded data removed]",
            "text/plain": [
              "plot without title"
            ]
          },
          "metadata": {
            "image/png": {
              "width": 420,
              "height": 420
            }
          }
        }
      ]
    },
    {
      "cell_type": "code",
      "source": [
        "image(groceries[1:6])\n",
        "sample(groceries)"
      ],
      "metadata": {
        "colab": {
          "base_uri": "https://localhost:8080/",
          "height": 489
        },
        "id": "aF-BByEkCNHi",
        "outputId": "f6b34e63-b42e-4802-8699-15051ad0745c"
      },
      "execution_count": 42,
      "outputs": [
        {
          "output_type": "display_data",
          "data": {
            "text/plain": [
              "transactions in sparse format with\n",
              " 9835 transactions (rows) and\n",
              " 169 items (columns)"
            ]
          },
          "metadata": {}
        },
        {
          "output_type": "display_data",
          "data": {
            "image/png": "[encoded data removed]",
            "text/plain": [
              "plot without title"
            ]
          },
          "metadata": {
            "image/png": {
              "width": 420,
              "height": 420
            }
          }
        }
      ]
    },
    {
      "cell_type": "markdown",
      "source": [
        "###Creating A Model to find association between shopping  \n",
        "###cart items.\n",
        "\n",
        "####I am going to use the Apriori Algorithm in the Arules   \n",
        "####for this model"
      ],
      "metadata": {
        "id": "1570jtssDfp-"
      }
    },
    {
      "cell_type": "code",
      "source": [
        "grocrule<-apriori(data = groceries, parameter = list(support = 0.006, confidence\n",
        "=0.25, minlen=2))\n",
        "#minlen is set to 2 to eliminate the rules that contain fewer than 2 items\n"
      ],
      "metadata": {
        "colab": {
          "base_uri": "https://localhost:8080/"
        },
        "id": "wH2-v0A1EJsx",
        "outputId": "1efa8ec6-5780-4c0b-e140-c5d18ee25485"
      },
      "execution_count": 45,
      "outputs": [
        {
          "output_type": "stream",
          "name": "stdout",
          "text": [
            "Apriori\n",
            "\n",
            "Parameter specification:\n",
            " confidence minval smax arem  aval originalSupport maxtime support minlen\n",
            "       0.25    0.1    1 none FALSE            TRUE       5   0.006      2\n",
            " maxlen target  ext\n",
            "     10  rules TRUE\n",
            "\n",
            "Algorithmic control:\n",
            " filter tree heap memopt load sort verbose\n",
            "    0.1 TRUE TRUE  FALSE TRUE    2    TRUE\n",
            "\n",
            "Absolute minimum support count: 59 \n",
            "\n",
            "set item appearances ...[0 item(s)] done [0.00s].\n",
            "set transactions ...[169 item(s), 9835 transaction(s)] done [0.01s].\n",
            "sorting and recoding items ... [109 item(s)] done [0.00s].\n",
            "creating transaction tree ... done [0.00s].\n",
            "checking subsets of size 1 2 3 4 done [0.00s].\n",
            "writing ... [463 rule(s)] done [0.00s].\n",
            "creating S4 object  ... done [0.00s].\n"
          ]
        }
      ]
    },
    {
      "cell_type": "code",
      "source": [
        "inspect(grocrule[1:4])"
      ],
      "metadata": {
        "colab": {
          "base_uri": "https://localhost:8080/"
        },
        "id": "6cHEfaU3GFrF",
        "outputId": "d9d59e8a-5b37-4c1f-d46d-ee9494a98048"
      },
      "execution_count": 47,
      "outputs": [
        {
          "output_type": "stream",
          "name": "stdout",
          "text": [
            "    lhs                rhs                support     confidence coverage  \n",
            "[1] {potted plants} => {whole milk}       0.006914082 0.4000000  0.01728521\n",
            "[2] {pasta}         => {whole milk}       0.006100661 0.4054054  0.01504830\n",
            "[3] {herbs}         => {root vegetables}  0.007015760 0.4312500  0.01626843\n",
            "[4] {herbs}         => {other vegetables} 0.007727504 0.4750000  0.01626843\n",
            "    lift     count\n",
            "[1] 1.565460 68   \n",
            "[2] 1.586614 60   \n",
            "[3] 3.956477 69   \n",
            "[4] 2.454874 76   \n"
          ]
        }
      ]
    },
    {
      "cell_type": "code",
      "source": [
        "summary(grocrule)"
      ],
      "metadata": {
        "colab": {
          "base_uri": "https://localhost:8080/",
          "height": 538
        },
        "id": "Z8RDrbGzHAwg",
        "outputId": "5dc26003-42c2-45ae-c938-9b45a5a64560"
      },
      "execution_count": 49,
      "outputs": [
        {
          "output_type": "display_data",
          "data": {
            "text/plain": [
              "set of 463 rules\n",
              "\n",
              "rule length distribution (lhs + rhs):sizes\n",
              "  2   3   4 \n",
              "150 297  16 \n",
              "\n",
              "   Min. 1st Qu.  Median    Mean 3rd Qu.    Max. \n",
              "  2.000   2.000   3.000   2.711   3.000   4.000 \n",
              "\n",
              "summary of quality measures:\n",
              "    support           confidence        coverage             lift       \n",
              " Min.   :0.006101   Min.   :0.2500   Min.   :0.009964   Min.   :0.9932  \n",
              " 1st Qu.:0.007117   1st Qu.:0.2971   1st Qu.:0.018709   1st Qu.:1.6229  \n",
              " Median :0.008744   Median :0.3554   Median :0.024809   Median :1.9332  \n",
              " Mean   :0.011539   Mean   :0.3786   Mean   :0.032608   Mean   :2.0351  \n",
              " 3rd Qu.:0.012303   3rd Qu.:0.4495   3rd Qu.:0.035892   3rd Qu.:2.3565  \n",
              " Max.   :0.074835   Max.   :0.6600   Max.   :0.255516   Max.   :3.9565  \n",
              "     count      \n",
              " Min.   : 60.0  \n",
              " 1st Qu.: 70.0  \n",
              " Median : 86.0  \n",
              " Mean   :113.5  \n",
              " 3rd Qu.:121.0  \n",
              " Max.   :736.0  \n",
              "\n",
              "mining info:\n",
              "      data ntransactions support confidence\n",
              " groceries          9835   0.006       0.25\n",
              "                                                                                        call\n",
              " apriori(data = groceries, parameter = list(support = 0.006, confidence = 0.25, minlen = 2))"
            ]
          },
          "metadata": {}
        }
      ]
    },
    {
      "cell_type": "markdown",
      "source": [
        "In most cases, depending on the objectives of the market,\n",
        "market basket analysis though, the most useful rules might be the ones with the highest *support*, *confidence* or *lift*. I will now sort the list of rules to reveal the ones with the top ten confidence level. \n",
        "\n",
        "\n",
        "\n"
      ],
      "metadata": {
        "id": "5Ihz7iUrI4T9"
      }
    },
    {
      "cell_type": "code",
      "source": [
        "top.support <- sort(grocrule, decreasing = TRUE, na.last = NA, by = \"confidence\")"
      ],
      "metadata": {
        "id": "ut476r2PJxxJ"
      },
      "execution_count": 60,
      "outputs": []
    },
    {
      "cell_type": "code",
      "source": [
        "inspect(head(top.support, 10))"
      ],
      "metadata": {
        "colab": {
          "base_uri": "https://localhost:8080/"
        },
        "id": "-tQ2ka2BLtG_",
        "outputId": "edf718f8-0df2-4457-9be3-3ae5c1fde44a"
      },
      "execution_count": 61,
      "outputs": [
        {
          "output_type": "stream",
          "name": "stdout",
          "text": [
            "     lhs                     rhs                    support confidence    coverage     lift count\n",
            "[1]  {butter,                                                                                    \n",
            "      whipped/sour cream} => {whole milk}       0.006710727  0.6600000 0.010167768 2.583008    66\n",
            "[2]  {butter,                                                                                    \n",
            "      yogurt}             => {whole milk}       0.009354347  0.6388889 0.014641586 2.500387    92\n",
            "[3]  {butter,                                                                                    \n",
            "      root vegetables}    => {whole milk}       0.008235892  0.6377953 0.012913066 2.496107    81\n",
            "[4]  {curd,                                                                                      \n",
            "      tropical fruit}     => {whole milk}       0.006507372  0.6336634 0.010269446 2.479936    64\n",
            "[5]  {butter,                                                                                    \n",
            "      tropical fruit}     => {whole milk}       0.006202339  0.6224490 0.009964413 2.436047    61\n",
            "[6]  {other vegetables,                                                                          \n",
            "      tropical fruit,                                                                            \n",
            "      yogurt}             => {whole milk}       0.007625826  0.6198347 0.012302999 2.425816    75\n",
            "[7]  {domestic eggs,                                                                             \n",
            "      tropical fruit}     => {whole milk}       0.006914082  0.6071429 0.011387900 2.376144    68\n",
            "[8]  {other vegetables,                                                                          \n",
            "      root vegetables,                                                                           \n",
            "      yogurt}             => {whole milk}       0.007829181  0.6062992 0.012913066 2.372842    77\n",
            "[9]  {domestic eggs,                                                                             \n",
            "      root vegetables}    => {whole milk}       0.008540925  0.5957447 0.014336553 2.331536    84\n",
            "[10] {citrus fruit,                                                                              \n",
            "      root vegetables}    => {other vegetables} 0.010371124  0.5862069 0.017691917 3.029608   102\n"
          ]
        }
      ]
    },
    {
      "cell_type": "markdown",
      "source": [
        "Taking subsets of my Association Rule. I will use the   subset function to search for the subsets of transaction,   items or rules. I will search for rules with \"othe vegetables\""
      ],
      "metadata": {
        "id": "15McRNohOm4v"
      }
    },
    {
      "cell_type": "code",
      "source": [
        "othe_veg_rule<-subset(grocrule, items %in% \"other vegetables\") \n",
        "inspect(othe_veg_rule[1:5])"
      ],
      "metadata": {
        "colab": {
          "base_uri": "https://localhost:8080/"
        },
        "id": "EThyLik6PlKO",
        "outputId": "9f4daaa9-070f-4f6b-9f29-047427dc7d0a"
      },
      "execution_count": 72,
      "outputs": [
        {
          "output_type": "stream",
          "name": "stdout",
          "text": [
            "    lhs                     rhs                support     confidence\n",
            "[1] {herbs}              => {other vegetables} 0.007727504 0.4750000 \n",
            "[2] {detergent}          => {other vegetables} 0.006405694 0.3333333 \n",
            "[3] {pickled vegetables} => {other vegetables} 0.006405694 0.3579545 \n",
            "[4] {baking powder}      => {other vegetables} 0.007320793 0.4137931 \n",
            "[5] {flour}              => {other vegetables} 0.006304016 0.3625731 \n",
            "    coverage   lift     count\n",
            "[1] 0.01626843 2.454874 76   \n",
            "[2] 0.01921708 1.722719 63   \n",
            "[3] 0.01789527 1.849965 63   \n",
            "[4] 0.01769192 2.138547 72   \n",
            "[5] 0.01738688 1.873834 62   \n"
          ]
        }
      ]
    },
    {
      "cell_type": "code",
      "source": [
        "write(grocrule, file = \"groceryrules.csv\", sep = \",\", quote=TRUE, row.names=FALSE\n",
        ")"
      ],
      "metadata": {
        "id": "5myTDLTUTntg"
      },
      "execution_count": 73,
      "outputs": []
    },
    {
      "cell_type": "code",
      "source": [
        "grocery_df<-as(grocrule, \"data.frame\")"
      ],
      "metadata": {
        "id": "IfYWzvC7UTqP"
      },
      "execution_count": 74,
      "outputs": []
    },
    {
      "cell_type": "code",
      "source": [
        "str(grocery_df)"
      ],
      "metadata": {
        "colab": {
          "base_uri": "https://localhost:8080/"
        },
        "id": "UQQNvRe8XUCH",
        "outputId": "92a7d8ef-9ded-4521-a0d4-64e3a4762b2f"
      },
      "execution_count": 82,
      "outputs": [
        {
          "output_type": "stream",
          "name": "stdout",
          "text": [
            "'data.frame':\t463 obs. of  6 variables:\n",
            " $ rules     : chr  \"{potted plants} => {whole milk}\" \"{pasta} => {whole milk}\" \"{herbs} => {root vegetables}\" \"{herbs} => {other vegetables}\" ...\n",
            " $ support   : num  0.00691 0.0061 0.00702 0.00773 0.00773 ...\n",
            " $ confidence: num  0.4 0.405 0.431 0.475 0.475 ...\n",
            " $ coverage  : num  0.0173 0.015 0.0163 0.0163 0.0163 ...\n",
            " $ lift      : num  1.57 1.59 3.96 2.45 1.86 ...\n",
            " $ count     : int  68 60 69 76 76 69 70 67 63 88 ...\n"
          ]
        }
      ]
    },
    {
      "cell_type": "code",
      "source": [
        "head(grocery_df[order(-grocery_df$confidence),])"
      ],
      "metadata": {
        "colab": {
          "base_uri": "https://localhost:8080/",
          "height": 286
        },
        "id": "3cPSfqAxY4Zp",
        "outputId": "9bec76ca-955a-4340-cd48-fba6d0ab3b22"
      },
      "execution_count": 85,
      "outputs": [
        {
          "output_type": "display_data",
          "data": {
            "text/plain": [
              "    rules                                                    support    \n",
              "221 {butter,whipped/sour cream} => {whole milk}              0.006710727\n",
              "229 {butter,yogurt} => {whole milk}                          0.009354347\n",
              "225 {butter,root vegetables} => {whole milk}                 0.008235892\n",
              "183 {curd,tropical fruit} => {whole milk}                    0.006507372\n",
              "222 {butter,tropical fruit} => {whole milk}                  0.006202339\n",
              "452 {other vegetables,tropical fruit,yogurt} => {whole milk} 0.007625826\n",
              "    confidence coverage    lift     count\n",
              "221 0.6600000  0.010167768 2.583008 66   \n",
              "229 0.6388889  0.014641586 2.500387 92   \n",
              "225 0.6377953  0.012913066 2.496107 81   \n",
              "183 0.6336634  0.010269446 2.479936 64   \n",
              "222 0.6224490  0.009964413 2.436047 61   \n",
              "452 0.6198347  0.012302999 2.425816 75   "
            ],
            "text/latex": "A data.frame: 6 × 6\n\\begin{tabular}{r|llllll}\n  & rules & support & confidence & coverage & lift & count\\\\\n  & <chr> & <dbl> & <dbl> & <dbl> & <dbl> & <int>\\\\\n\\hline\n\t221 & \\{butter,whipped/sour cream\\} => \\{whole milk\\}              & 0.006710727 & 0.6600000 & 0.010167768 & 2.583008 & 66\\\\\n\t229 & \\{butter,yogurt\\} => \\{whole milk\\}                          & 0.009354347 & 0.6388889 & 0.014641586 & 2.500387 & 92\\\\\n\t225 & \\{butter,root vegetables\\} => \\{whole milk\\}                 & 0.008235892 & 0.6377953 & 0.012913066 & 2.496107 & 81\\\\\n\t183 & \\{curd,tropical fruit\\} => \\{whole milk\\}                    & 0.006507372 & 0.6336634 & 0.010269446 & 2.479936 & 64\\\\\n\t222 & \\{butter,tropical fruit\\} => \\{whole milk\\}                  & 0.006202339 & 0.6224490 & 0.009964413 & 2.436047 & 61\\\\\n\t452 & \\{other vegetables,tropical fruit,yogurt\\} => \\{whole milk\\} & 0.007625826 & 0.6198347 & 0.012302999 & 2.425816 & 75\\\\\n\\end{tabular}\n",
            "text/markdown": "\nA data.frame: 6 × 6\n\n| <!--/--> | rules &lt;chr&gt; | support &lt;dbl&gt; | confidence &lt;dbl&gt; | coverage &lt;dbl&gt; | lift &lt;dbl&gt; | count &lt;int&gt; |\n|---|---|---|---|---|---|---|\n| 221 | {butter,whipped/sour cream} =&gt; {whole milk}              | 0.006710727 | 0.6600000 | 0.010167768 | 2.583008 | 66 |\n| 229 | {butter,yogurt} =&gt; {whole milk}                          | 0.009354347 | 0.6388889 | 0.014641586 | 2.500387 | 92 |\n| 225 | {butter,root vegetables} =&gt; {whole milk}                 | 0.008235892 | 0.6377953 | 0.012913066 | 2.496107 | 81 |\n| 183 | {curd,tropical fruit} =&gt; {whole milk}                    | 0.006507372 | 0.6336634 | 0.010269446 | 2.479936 | 64 |\n| 222 | {butter,tropical fruit} =&gt; {whole milk}                  | 0.006202339 | 0.6224490 | 0.009964413 | 2.436047 | 61 |\n| 452 | {other vegetables,tropical fruit,yogurt} =&gt; {whole milk} | 0.007625826 | 0.6198347 | 0.012302999 | 2.425816 | 75 |\n\n",
            "text/html": [
              "<table class=\"dataframe\">\n",
              "<caption>A data.frame: 6 × 6</caption>\n",
              "<thead>\n",
              "\t<tr><th></th><th scope=col>rules</th><th scope=col>support</th><th scope=col>confidence</th><th scope=col>coverage</th><th scope=col>lift</th><th scope=col>count</th></tr>\n",
              "\t<tr><th></th><th scope=col>&lt;chr&gt;</th><th scope=col>&lt;dbl&gt;</th><th scope=col>&lt;dbl&gt;</th><th scope=col>&lt;dbl&gt;</th><th scope=col>&lt;dbl&gt;</th><th scope=col>&lt;int&gt;</th></tr>\n",
              "</thead>\n",
              "<tbody>\n",
              "\t<tr><th scope=row>221</th><td><span style=white-space:pre-wrap>{butter,whipped/sour cream} =&gt; {whole milk}             </span></td><td>0.006710727</td><td>0.6600000</td><td>0.010167768</td><td>2.583008</td><td>66</td></tr>\n",
              "\t<tr><th scope=row>229</th><td><span style=white-space:pre-wrap>{butter,yogurt} =&gt; {whole milk}                         </span></td><td>0.009354347</td><td>0.6388889</td><td>0.014641586</td><td>2.500387</td><td>92</td></tr>\n",
              "\t<tr><th scope=row>225</th><td><span style=white-space:pre-wrap>{butter,root vegetables} =&gt; {whole milk}                </span></td><td>0.008235892</td><td>0.6377953</td><td>0.012913066</td><td>2.496107</td><td>81</td></tr>\n",
              "\t<tr><th scope=row>183</th><td><span style=white-space:pre-wrap>{curd,tropical fruit} =&gt; {whole milk}                   </span></td><td>0.006507372</td><td>0.6336634</td><td>0.010269446</td><td>2.479936</td><td>64</td></tr>\n",
              "\t<tr><th scope=row>222</th><td><span style=white-space:pre-wrap>{butter,tropical fruit} =&gt; {whole milk}                 </span></td><td>0.006202339</td><td>0.6224490</td><td>0.009964413</td><td>2.436047</td><td>61</td></tr>\n",
              "\t<tr><th scope=row>452</th><td>{other vegetables,tropical fruit,yogurt} =&gt; {whole milk}</td><td>0.007625826</td><td>0.6198347</td><td>0.012302999</td><td>2.425816</td><td>75</td></tr>\n",
              "</tbody>\n",
              "</table>\n"
            ]
          },
          "metadata": {}
        }
      ]
    }
  ]
}